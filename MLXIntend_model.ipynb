{
 "cells": [
  {
   "cell_type": "code",
   "execution_count": 3,
   "metadata": {},
   "outputs": [],
   "source": [
    "import pandas as pd\n",
    "import numpy as np\n",
    "from tqdm import tqdm\n",
    "\n",
    "#Visualizaiton imports\n",
    "import seaborn as sns\n",
    "import matplotlib.pyplot as plt\n",
    "\n",
    "#Importing Sklearn\n",
    "from sklearn.preprocessing import StandardScaler, OneHotEncoder\n",
    "\n",
    "#Import Market Basket Models\n",
    "from mlxtend.frequent_patterns import apriori\n",
    "from mlxtend.frequent_patterns import association_rules\n",
    "\n",
    "%matplotlib inline"
   ]
  },
  {
   "cell_type": "code",
   "execution_count": 133,
   "metadata": {},
   "outputs": [],
   "source": [
    "order_products__train = pd.read_csv(\"Desktop/order_products__train.csv\")\n",
    "order_products__prior = pd.read_csv(\"Desktop//order_products__prior.csv\")\n",
    "orders = pd.read_csv(\"Desktop/orders.csv\")\n",
    "products = pd.read_csv(\"Desktop/products.csv\")\n",
    "aisles = pd.read_csv(\"Desktop/aisles.csv\")\n",
    "departments = pd.read_csv(\"Desktop/departments.csv\")"
   ]
  },
  {
   "cell_type": "code",
   "execution_count": 10,
   "metadata": {},
   "outputs": [
    {
     "name": "stdout",
     "output_type": "stream",
     "text": [
      "aisles (134, 2) : Null values? False\n",
      "departments (21, 2) : Null values? False\n",
      "order_products__prior (32434489, 4) : Null values? False\n",
      "order_products__train (1384617, 4) : Null values? False\n",
      "orders (3421083, 7) : Null values? False\n",
      "products (49688, 4) : Null values? False\n"
     ]
    }
   ],
   "source": [
    "for name in filenames:\n",
    "    print(name, eval(name).shape,\": Null values?\", eval(name).isnull().any()[0])"
   ]
  },
  {
   "cell_type": "code",
   "execution_count": 11,
   "metadata": {},
   "outputs": [
    {
     "data": {
      "text/html": [
       "<div>\n",
       "<style scoped>\n",
       "    .dataframe tbody tr th:only-of-type {\n",
       "        vertical-align: middle;\n",
       "    }\n",
       "\n",
       "    .dataframe tbody tr th {\n",
       "        vertical-align: top;\n",
       "    }\n",
       "\n",
       "    .dataframe thead th {\n",
       "        text-align: right;\n",
       "    }\n",
       "</style>\n",
       "<table border=\"1\" class=\"dataframe\">\n",
       "  <thead>\n",
       "    <tr style=\"text-align: right;\">\n",
       "      <th></th>\n",
       "      <th>order_id</th>\n",
       "      <th>product_id</th>\n",
       "      <th>add_to_cart_order</th>\n",
       "      <th>reordered</th>\n",
       "    </tr>\n",
       "  </thead>\n",
       "  <tbody>\n",
       "    <tr>\n",
       "      <td>0</td>\n",
       "      <td>2</td>\n",
       "      <td>33120</td>\n",
       "      <td>1</td>\n",
       "      <td>1</td>\n",
       "    </tr>\n",
       "    <tr>\n",
       "      <td>1</td>\n",
       "      <td>2</td>\n",
       "      <td>28985</td>\n",
       "      <td>2</td>\n",
       "      <td>1</td>\n",
       "    </tr>\n",
       "    <tr>\n",
       "      <td>2</td>\n",
       "      <td>2</td>\n",
       "      <td>9327</td>\n",
       "      <td>3</td>\n",
       "      <td>0</td>\n",
       "    </tr>\n",
       "    <tr>\n",
       "      <td>3</td>\n",
       "      <td>2</td>\n",
       "      <td>45918</td>\n",
       "      <td>4</td>\n",
       "      <td>1</td>\n",
       "    </tr>\n",
       "    <tr>\n",
       "      <td>4</td>\n",
       "      <td>2</td>\n",
       "      <td>30035</td>\n",
       "      <td>5</td>\n",
       "      <td>0</td>\n",
       "    </tr>\n",
       "  </tbody>\n",
       "</table>\n",
       "</div>"
      ],
      "text/plain": [
       "   order_id  product_id  add_to_cart_order  reordered\n",
       "0         2       33120                  1          1\n",
       "1         2       28985                  2          1\n",
       "2         2        9327                  3          0\n",
       "3         2       45918                  4          1\n",
       "4         2       30035                  5          0"
      ]
     },
     "execution_count": 11,
     "metadata": {},
     "output_type": "execute_result"
    }
   ],
   "source": [
    "aisles.head()\n",
    "departments.head()\n",
    "#combine aisle and departments\n",
    "order_products__prior.head()"
   ]
  },
  {
   "cell_type": "code",
   "execution_count": 12,
   "metadata": {},
   "outputs": [],
   "source": [
    "opt = order_products__train.merge(products,how='left', on='product_id')\n",
    "opt = opt.merge(departments,how='left', on='department_id')\n",
    "opt = opt.merge(aisles,how='left', on='aisle_id')"
   ]
  },
  {
   "cell_type": "code",
   "execution_count": 13,
   "metadata": {},
   "outputs": [],
   "source": [
    "#converting the id to string to preserve order.\n",
    "opt['aisle_id']= opt['aisle_id'].astype(str)"
   ]
  },
  {
   "cell_type": "code",
   "execution_count": 14,
   "metadata": {},
   "outputs": [
    {
     "data": {
      "text/plain": [
       "fresh vegetables              150609\n",
       "fresh fruits                  150473\n",
       "packaged vegetables fruits     78493\n",
       "yogurt                         55240\n",
       "packaged cheese                41699\n",
       "Name: aisle, dtype: int64"
      ]
     },
     "execution_count": 14,
     "metadata": {},
     "output_type": "execute_result"
    }
   ],
   "source": [
    "#checking the top product aisles.  \n",
    "opt[['aisle','aisle_id']]['aisle'].value_counts().head()"
   ]
  },
  {
   "cell_type": "markdown",
   "metadata": {},
   "source": [
    "Preprocessing for Market Basket"
   ]
  },
  {
   "cell_type": "code",
   "execution_count": 15,
   "metadata": {},
   "outputs": [],
   "source": [
    "#instanciate Oone hot encoder ot break out the data my aisle.\n",
    "ohe = OneHotEncoder(handle_unknown='ignore')"
   ]
  },
  {
   "cell_type": "code",
   "execution_count": 16,
   "metadata": {},
   "outputs": [
    {
     "name": "stdout",
     "output_type": "stream",
     "text": [
      "# of unique aisles = 134\n"
     ]
    }
   ],
   "source": [
    "#test to  see # of aisles\n",
    "print('# of unique aisles =',len(opt['aisle_id'].unique()))\n",
    "aisle = ohe.fit_transform(opt['aisle_id'].astype(str).values.reshape(-1,1))"
   ]
  },
  {
   "cell_type": "code",
   "execution_count": 17,
   "metadata": {},
   "outputs": [
    {
     "name": "stderr",
     "output_type": "stream",
     "text": [
      "//anaconda3/lib/python3.7/site-packages/ipykernel_launcher.py:3: FutureWarning: DataFrame/Series.to_dense is deprecated and will be removed in a future version\n",
      "  This is separate from the ipykernel package so we can avoid doing imports until\n"
     ]
    }
   ],
   "source": [
    "#one hot encode the aisles and create a dense matrix.\n",
    "a_ohe = pd.DataFrame(aisle.toarray())\n",
    "aisle = a_ohe.to_dense()"
   ]
  },
  {
   "cell_type": "code",
   "execution_count": 18,
   "metadata": {},
   "outputs": [],
   "source": [
    "#add order_id to the one hot encoded matrix\n",
    "basket = opt[['order_id']].join(aisle)"
   ]
  },
  {
   "cell_type": "code",
   "execution_count": 19,
   "metadata": {},
   "outputs": [
    {
     "data": {
      "text/html": [
       "<div>\n",
       "<style scoped>\n",
       "    .dataframe tbody tr th:only-of-type {\n",
       "        vertical-align: middle;\n",
       "    }\n",
       "\n",
       "    .dataframe tbody tr th {\n",
       "        vertical-align: top;\n",
       "    }\n",
       "\n",
       "    .dataframe thead th {\n",
       "        text-align: right;\n",
       "    }\n",
       "</style>\n",
       "<table border=\"1\" class=\"dataframe\">\n",
       "  <thead>\n",
       "    <tr style=\"text-align: right;\">\n",
       "      <th></th>\n",
       "      <th>order_id</th>\n",
       "      <th>product_id</th>\n",
       "      <th>add_to_cart_order</th>\n",
       "      <th>reordered</th>\n",
       "      <th>product_name</th>\n",
       "      <th>aisle_id</th>\n",
       "      <th>department_id</th>\n",
       "      <th>department</th>\n",
       "      <th>aisle</th>\n",
       "    </tr>\n",
       "  </thead>\n",
       "  <tbody>\n",
       "  </tbody>\n",
       "</table>\n",
       "</div>"
      ],
      "text/plain": [
       "Empty DataFrame\n",
       "Columns: [order_id, product_id, add_to_cart_order, reordered, product_name, aisle_id, department_id, department, aisle]\n",
       "Index: []"
      ]
     },
     "execution_count": 19,
     "metadata": {},
     "output_type": "execute_result"
    }
   ],
   "source": [
    "opt[opt['aisle_id'] == 134]\n"
   ]
  },
  {
   "cell_type": "code",
   "execution_count": 20,
   "metadata": {},
   "outputs": [
    {
     "data": {
      "text/plain": [
       "range(0, 134)"
      ]
     },
     "execution_count": 20,
     "metadata": {},
     "output_type": "execute_result"
    }
   ],
   "source": [
    "range(len(opt['aisle_id'].unique()))\n"
   ]
  },
  {
   "cell_type": "code",
   "execution_count": 21,
   "metadata": {},
   "outputs": [
    {
     "data": {
      "text/plain": [
       "prepared soups salads    2936\n",
       "Name: aisle, dtype: int64"
      ]
     },
     "execution_count": 21,
     "metadata": {},
     "output_type": "execute_result"
    }
   ],
   "source": [
    "opt[opt['aisle_id'] == '1']['aisle'].value_counts()\n"
   ]
  },
  {
   "cell_type": "code",
   "execution_count": 22,
   "metadata": {},
   "outputs": [
    {
     "data": {
      "text/html": [
       "<div>\n",
       "<style scoped>\n",
       "    .dataframe tbody tr th:only-of-type {\n",
       "        vertical-align: middle;\n",
       "    }\n",
       "\n",
       "    .dataframe tbody tr th {\n",
       "        vertical-align: top;\n",
       "    }\n",
       "\n",
       "    .dataframe thead th {\n",
       "        text-align: right;\n",
       "    }\n",
       "</style>\n",
       "<table border=\"1\" class=\"dataframe\">\n",
       "  <thead>\n",
       "    <tr style=\"text-align: right;\">\n",
       "      <th></th>\n",
       "      <th>order_id</th>\n",
       "      <th>0</th>\n",
       "      <th>1</th>\n",
       "      <th>2</th>\n",
       "      <th>3</th>\n",
       "      <th>4</th>\n",
       "      <th>5</th>\n",
       "      <th>6</th>\n",
       "      <th>7</th>\n",
       "      <th>8</th>\n",
       "      <th>...</th>\n",
       "      <th>124</th>\n",
       "      <th>125</th>\n",
       "      <th>126</th>\n",
       "      <th>127</th>\n",
       "      <th>128</th>\n",
       "      <th>129</th>\n",
       "      <th>130</th>\n",
       "      <th>131</th>\n",
       "      <th>132</th>\n",
       "      <th>133</th>\n",
       "    </tr>\n",
       "  </thead>\n",
       "  <tbody>\n",
       "    <tr>\n",
       "      <td>0</td>\n",
       "      <td>1</td>\n",
       "      <td>0.0</td>\n",
       "      <td>0.0</td>\n",
       "      <td>0.0</td>\n",
       "      <td>0.0</td>\n",
       "      <td>0.0</td>\n",
       "      <td>0.0</td>\n",
       "      <td>0.0</td>\n",
       "      <td>0.0</td>\n",
       "      <td>0.0</td>\n",
       "      <td>...</td>\n",
       "      <td>0.0</td>\n",
       "      <td>0.0</td>\n",
       "      <td>0.0</td>\n",
       "      <td>0.0</td>\n",
       "      <td>0.0</td>\n",
       "      <td>0.0</td>\n",
       "      <td>0.0</td>\n",
       "      <td>0.0</td>\n",
       "      <td>0.0</td>\n",
       "      <td>0.0</td>\n",
       "    </tr>\n",
       "    <tr>\n",
       "      <td>1</td>\n",
       "      <td>1</td>\n",
       "      <td>0.0</td>\n",
       "      <td>0.0</td>\n",
       "      <td>0.0</td>\n",
       "      <td>0.0</td>\n",
       "      <td>0.0</td>\n",
       "      <td>0.0</td>\n",
       "      <td>0.0</td>\n",
       "      <td>0.0</td>\n",
       "      <td>0.0</td>\n",
       "      <td>...</td>\n",
       "      <td>0.0</td>\n",
       "      <td>0.0</td>\n",
       "      <td>0.0</td>\n",
       "      <td>0.0</td>\n",
       "      <td>0.0</td>\n",
       "      <td>0.0</td>\n",
       "      <td>0.0</td>\n",
       "      <td>0.0</td>\n",
       "      <td>0.0</td>\n",
       "      <td>0.0</td>\n",
       "    </tr>\n",
       "    <tr>\n",
       "      <td>2</td>\n",
       "      <td>1</td>\n",
       "      <td>0.0</td>\n",
       "      <td>0.0</td>\n",
       "      <td>0.0</td>\n",
       "      <td>0.0</td>\n",
       "      <td>0.0</td>\n",
       "      <td>0.0</td>\n",
       "      <td>0.0</td>\n",
       "      <td>0.0</td>\n",
       "      <td>0.0</td>\n",
       "      <td>...</td>\n",
       "      <td>0.0</td>\n",
       "      <td>0.0</td>\n",
       "      <td>0.0</td>\n",
       "      <td>0.0</td>\n",
       "      <td>0.0</td>\n",
       "      <td>0.0</td>\n",
       "      <td>0.0</td>\n",
       "      <td>0.0</td>\n",
       "      <td>0.0</td>\n",
       "      <td>0.0</td>\n",
       "    </tr>\n",
       "    <tr>\n",
       "      <td>3</td>\n",
       "      <td>1</td>\n",
       "      <td>0.0</td>\n",
       "      <td>0.0</td>\n",
       "      <td>0.0</td>\n",
       "      <td>0.0</td>\n",
       "      <td>0.0</td>\n",
       "      <td>0.0</td>\n",
       "      <td>0.0</td>\n",
       "      <td>0.0</td>\n",
       "      <td>0.0</td>\n",
       "      <td>...</td>\n",
       "      <td>0.0</td>\n",
       "      <td>0.0</td>\n",
       "      <td>0.0</td>\n",
       "      <td>0.0</td>\n",
       "      <td>0.0</td>\n",
       "      <td>0.0</td>\n",
       "      <td>0.0</td>\n",
       "      <td>0.0</td>\n",
       "      <td>0.0</td>\n",
       "      <td>0.0</td>\n",
       "    </tr>\n",
       "    <tr>\n",
       "      <td>4</td>\n",
       "      <td>1</td>\n",
       "      <td>0.0</td>\n",
       "      <td>0.0</td>\n",
       "      <td>0.0</td>\n",
       "      <td>0.0</td>\n",
       "      <td>0.0</td>\n",
       "      <td>0.0</td>\n",
       "      <td>0.0</td>\n",
       "      <td>0.0</td>\n",
       "      <td>0.0</td>\n",
       "      <td>...</td>\n",
       "      <td>0.0</td>\n",
       "      <td>0.0</td>\n",
       "      <td>0.0</td>\n",
       "      <td>0.0</td>\n",
       "      <td>0.0</td>\n",
       "      <td>1.0</td>\n",
       "      <td>0.0</td>\n",
       "      <td>0.0</td>\n",
       "      <td>0.0</td>\n",
       "      <td>0.0</td>\n",
       "    </tr>\n",
       "  </tbody>\n",
       "</table>\n",
       "<p>5 rows × 135 columns</p>\n",
       "</div>"
      ],
      "text/plain": [
       "   order_id    0    1    2    3    4    5    6    7    8  ...  124  125  126  \\\n",
       "0         1  0.0  0.0  0.0  0.0  0.0  0.0  0.0  0.0  0.0  ...  0.0  0.0  0.0   \n",
       "1         1  0.0  0.0  0.0  0.0  0.0  0.0  0.0  0.0  0.0  ...  0.0  0.0  0.0   \n",
       "2         1  0.0  0.0  0.0  0.0  0.0  0.0  0.0  0.0  0.0  ...  0.0  0.0  0.0   \n",
       "3         1  0.0  0.0  0.0  0.0  0.0  0.0  0.0  0.0  0.0  ...  0.0  0.0  0.0   \n",
       "4         1  0.0  0.0  0.0  0.0  0.0  0.0  0.0  0.0  0.0  ...  0.0  0.0  0.0   \n",
       "\n",
       "   127  128  129  130  131  132  133  \n",
       "0  0.0  0.0  0.0  0.0  0.0  0.0  0.0  \n",
       "1  0.0  0.0  0.0  0.0  0.0  0.0  0.0  \n",
       "2  0.0  0.0  0.0  0.0  0.0  0.0  0.0  \n",
       "3  0.0  0.0  0.0  0.0  0.0  0.0  0.0  \n",
       "4  0.0  0.0  1.0  0.0  0.0  0.0  0.0  \n",
       "\n",
       "[5 rows x 135 columns]"
      ]
     },
     "execution_count": 22,
     "metadata": {},
     "output_type": "execute_result"
    }
   ],
   "source": [
    "basket.head()\n"
   ]
  },
  {
   "cell_type": "code",
   "execution_count": 23,
   "metadata": {},
   "outputs": [],
   "source": [
    "#return the total items in the basket from the aisles\n",
    "basket = basket.groupby('order_id').sum()"
   ]
  },
  {
   "cell_type": "code",
   "execution_count": 24,
   "metadata": {},
   "outputs": [],
   "source": [
    "#covert any values to be a binary. \n",
    "def encode_units(x):\n",
    "    if x <= 0:\n",
    "        return 0\n",
    "    if x >= 1:\n",
    "        return 1\n",
    "\n",
    "basket_sets = basket.applymap(encode_units)"
   ]
  },
  {
   "cell_type": "code",
   "execution_count": 25,
   "metadata": {},
   "outputs": [
    {
     "name": "stderr",
     "output_type": "stream",
     "text": [
      "//anaconda3/lib/python3.7/site-packages/ipykernel_launcher.py:1: DeprecationWarning: Numeric-style type codes are deprecated and will result in an error in the future.\n",
      "  \"\"\"Entry point for launching an IPython kernel.\n"
     ]
    }
   ],
   "source": [
    "aisle_dict = dict(zip(opt['aisle_id'].unique().astype('Int64'),opt['aisle'].unique()))"
   ]
  },
  {
   "cell_type": "code",
   "execution_count": 26,
   "metadata": {},
   "outputs": [],
   "source": [
    "basket_sets.columns = list(range(1,len(aisle_dict)+1))\n",
    "basket_sets.rename(columns=aisle_dict,inplace=True)"
   ]
  },
  {
   "cell_type": "code",
   "execution_count": 27,
   "metadata": {},
   "outputs": [
    {
     "data": {
      "text/html": [
       "<div>\n",
       "<style scoped>\n",
       "    .dataframe tbody tr th:only-of-type {\n",
       "        vertical-align: middle;\n",
       "    }\n",
       "\n",
       "    .dataframe tbody tr th {\n",
       "        vertical-align: top;\n",
       "    }\n",
       "\n",
       "    .dataframe thead th {\n",
       "        text-align: right;\n",
       "    }\n",
       "</style>\n",
       "<table border=\"1\" class=\"dataframe\">\n",
       "  <thead>\n",
       "    <tr style=\"text-align: right;\">\n",
       "      <th></th>\n",
       "      <th>prepared soups salads</th>\n",
       "      <th>specialty cheeses</th>\n",
       "      <th>energy granola bars</th>\n",
       "      <th>instant foods</th>\n",
       "      <th>marinades meat preparation</th>\n",
       "      <th>other</th>\n",
       "      <th>packaged meat</th>\n",
       "      <th>bakery desserts</th>\n",
       "      <th>pasta sauce</th>\n",
       "      <th>kitchen supplies</th>\n",
       "      <th>...</th>\n",
       "      <th>trail mix snack mix</th>\n",
       "      <th>feminine care</th>\n",
       "      <th>body lotions soap</th>\n",
       "      <th>tortillas flat bread</th>\n",
       "      <th>frozen appetizers sides</th>\n",
       "      <th>hot cereal pancake mixes</th>\n",
       "      <th>dry pasta</th>\n",
       "      <th>beauty</th>\n",
       "      <th>muscles joints pain relief</th>\n",
       "      <th>specialty wines champagnes</th>\n",
       "    </tr>\n",
       "    <tr>\n",
       "      <th>order_id</th>\n",
       "      <th></th>\n",
       "      <th></th>\n",
       "      <th></th>\n",
       "      <th></th>\n",
       "      <th></th>\n",
       "      <th></th>\n",
       "      <th></th>\n",
       "      <th></th>\n",
       "      <th></th>\n",
       "      <th></th>\n",
       "      <th></th>\n",
       "      <th></th>\n",
       "      <th></th>\n",
       "      <th></th>\n",
       "      <th></th>\n",
       "      <th></th>\n",
       "      <th></th>\n",
       "      <th></th>\n",
       "      <th></th>\n",
       "      <th></th>\n",
       "      <th></th>\n",
       "    </tr>\n",
       "  </thead>\n",
       "  <tbody>\n",
       "    <tr>\n",
       "      <td>1</td>\n",
       "      <td>0</td>\n",
       "      <td>0</td>\n",
       "      <td>0</td>\n",
       "      <td>0</td>\n",
       "      <td>0</td>\n",
       "      <td>0</td>\n",
       "      <td>0</td>\n",
       "      <td>0</td>\n",
       "      <td>0</td>\n",
       "      <td>0</td>\n",
       "      <td>...</td>\n",
       "      <td>0</td>\n",
       "      <td>0</td>\n",
       "      <td>0</td>\n",
       "      <td>0</td>\n",
       "      <td>0</td>\n",
       "      <td>1</td>\n",
       "      <td>0</td>\n",
       "      <td>0</td>\n",
       "      <td>0</td>\n",
       "      <td>0</td>\n",
       "    </tr>\n",
       "    <tr>\n",
       "      <td>36</td>\n",
       "      <td>0</td>\n",
       "      <td>0</td>\n",
       "      <td>0</td>\n",
       "      <td>0</td>\n",
       "      <td>0</td>\n",
       "      <td>0</td>\n",
       "      <td>0</td>\n",
       "      <td>0</td>\n",
       "      <td>0</td>\n",
       "      <td>0</td>\n",
       "      <td>...</td>\n",
       "      <td>0</td>\n",
       "      <td>0</td>\n",
       "      <td>0</td>\n",
       "      <td>0</td>\n",
       "      <td>0</td>\n",
       "      <td>0</td>\n",
       "      <td>1</td>\n",
       "      <td>0</td>\n",
       "      <td>0</td>\n",
       "      <td>0</td>\n",
       "    </tr>\n",
       "    <tr>\n",
       "      <td>38</td>\n",
       "      <td>0</td>\n",
       "      <td>0</td>\n",
       "      <td>0</td>\n",
       "      <td>0</td>\n",
       "      <td>0</td>\n",
       "      <td>0</td>\n",
       "      <td>0</td>\n",
       "      <td>0</td>\n",
       "      <td>0</td>\n",
       "      <td>0</td>\n",
       "      <td>...</td>\n",
       "      <td>0</td>\n",
       "      <td>0</td>\n",
       "      <td>0</td>\n",
       "      <td>0</td>\n",
       "      <td>0</td>\n",
       "      <td>0</td>\n",
       "      <td>0</td>\n",
       "      <td>0</td>\n",
       "      <td>0</td>\n",
       "      <td>0</td>\n",
       "    </tr>\n",
       "    <tr>\n",
       "      <td>96</td>\n",
       "      <td>0</td>\n",
       "      <td>0</td>\n",
       "      <td>0</td>\n",
       "      <td>0</td>\n",
       "      <td>0</td>\n",
       "      <td>0</td>\n",
       "      <td>0</td>\n",
       "      <td>0</td>\n",
       "      <td>0</td>\n",
       "      <td>0</td>\n",
       "      <td>...</td>\n",
       "      <td>0</td>\n",
       "      <td>0</td>\n",
       "      <td>0</td>\n",
       "      <td>0</td>\n",
       "      <td>0</td>\n",
       "      <td>0</td>\n",
       "      <td>1</td>\n",
       "      <td>0</td>\n",
       "      <td>0</td>\n",
       "      <td>0</td>\n",
       "    </tr>\n",
       "    <tr>\n",
       "      <td>98</td>\n",
       "      <td>0</td>\n",
       "      <td>0</td>\n",
       "      <td>0</td>\n",
       "      <td>0</td>\n",
       "      <td>0</td>\n",
       "      <td>0</td>\n",
       "      <td>0</td>\n",
       "      <td>0</td>\n",
       "      <td>1</td>\n",
       "      <td>0</td>\n",
       "      <td>...</td>\n",
       "      <td>0</td>\n",
       "      <td>1</td>\n",
       "      <td>0</td>\n",
       "      <td>0</td>\n",
       "      <td>0</td>\n",
       "      <td>0</td>\n",
       "      <td>1</td>\n",
       "      <td>0</td>\n",
       "      <td>1</td>\n",
       "      <td>1</td>\n",
       "    </tr>\n",
       "  </tbody>\n",
       "</table>\n",
       "<p>5 rows × 134 columns</p>\n",
       "</div>"
      ],
      "text/plain": [
       "          prepared soups salads  specialty cheeses  energy granola bars  \\\n",
       "order_id                                                                  \n",
       "1                             0                  0                    0   \n",
       "36                            0                  0                    0   \n",
       "38                            0                  0                    0   \n",
       "96                            0                  0                    0   \n",
       "98                            0                  0                    0   \n",
       "\n",
       "          instant foods  marinades meat preparation  other  packaged meat  \\\n",
       "order_id                                                                    \n",
       "1                     0                           0      0              0   \n",
       "36                    0                           0      0              0   \n",
       "38                    0                           0      0              0   \n",
       "96                    0                           0      0              0   \n",
       "98                    0                           0      0              0   \n",
       "\n",
       "          bakery desserts  pasta sauce  kitchen supplies  ...  \\\n",
       "order_id                                                  ...   \n",
       "1                       0            0                 0  ...   \n",
       "36                      0            0                 0  ...   \n",
       "38                      0            0                 0  ...   \n",
       "96                      0            0                 0  ...   \n",
       "98                      0            1                 0  ...   \n",
       "\n",
       "          trail mix snack mix  feminine care  body lotions soap  \\\n",
       "order_id                                                          \n",
       "1                           0              0                  0   \n",
       "36                          0              0                  0   \n",
       "38                          0              0                  0   \n",
       "96                          0              0                  0   \n",
       "98                          0              1                  0   \n",
       "\n",
       "          tortillas flat bread  frozen appetizers sides  \\\n",
       "order_id                                                  \n",
       "1                            0                        0   \n",
       "36                           0                        0   \n",
       "38                           0                        0   \n",
       "96                           0                        0   \n",
       "98                           0                        0   \n",
       "\n",
       "          hot cereal pancake mixes  dry pasta  beauty  \\\n",
       "order_id                                                \n",
       "1                                1          0       0   \n",
       "36                               0          1       0   \n",
       "38                               0          0       0   \n",
       "96                               0          1       0   \n",
       "98                               0          1       0   \n",
       "\n",
       "          muscles joints pain relief  specialty wines champagnes  \n",
       "order_id                                                          \n",
       "1                                  0                           0  \n",
       "36                                 0                           0  \n",
       "38                                 0                           0  \n",
       "96                                 0                           0  \n",
       "98                                 1                           1  \n",
       "\n",
       "[5 rows x 134 columns]"
      ]
     },
     "execution_count": 27,
     "metadata": {},
     "output_type": "execute_result"
    }
   ],
   "source": [
    "basket_sets.head()\n"
   ]
  },
  {
   "cell_type": "code",
   "execution_count": 28,
   "metadata": {},
   "outputs": [],
   "source": [
    "frequent_itemsets = apriori(basket_sets, min_support=0.07, use_colnames=True)\n"
   ]
  },
  {
   "cell_type": "markdown",
   "metadata": {},
   "source": [
    "Market Basket Results"
   ]
  },
  {
   "cell_type": "code",
   "execution_count": 53,
   "metadata": {},
   "outputs": [],
   "source": [
    "rules = association_rules(frequent_itemsets, metric=\"lift\", min_threshold=1)\n"
   ]
  },
  {
   "cell_type": "code",
   "execution_count": 54,
   "metadata": {},
   "outputs": [
    {
     "data": {
      "text/html": [
       "<div>\n",
       "<style scoped>\n",
       "    .dataframe tbody tr th:only-of-type {\n",
       "        vertical-align: middle;\n",
       "    }\n",
       "\n",
       "    .dataframe tbody tr th {\n",
       "        vertical-align: top;\n",
       "    }\n",
       "\n",
       "    .dataframe thead th {\n",
       "        text-align: right;\n",
       "    }\n",
       "</style>\n",
       "<table border=\"1\" class=\"dataframe\">\n",
       "  <thead>\n",
       "    <tr style=\"text-align: right;\">\n",
       "      <th></th>\n",
       "      <th>antecedents</th>\n",
       "      <th>consequents</th>\n",
       "      <th>antecedent support</th>\n",
       "      <th>consequent support</th>\n",
       "      <th>support</th>\n",
       "      <th>confidence</th>\n",
       "      <th>lift</th>\n",
       "      <th>leverage</th>\n",
       "      <th>conviction</th>\n",
       "    </tr>\n",
       "  </thead>\n",
       "  <tbody>\n",
       "    <tr>\n",
       "      <td>0</td>\n",
       "      <td>(Vegetarian Organic Golden Corn)</td>\n",
       "      <td>(Organic Mint)</td>\n",
       "      <td>0.010389</td>\n",
       "      <td>0.001865</td>\n",
       "      <td>0.000533</td>\n",
       "      <td>0.051282</td>\n",
       "      <td>27.501832</td>\n",
       "      <td>0.000513</td>\n",
       "      <td>1.052089</td>\n",
       "    </tr>\n",
       "    <tr>\n",
       "      <td>1</td>\n",
       "      <td>(Organic Mint)</td>\n",
       "      <td>(Vegetarian Organic Golden Corn)</td>\n",
       "      <td>0.001865</td>\n",
       "      <td>0.010389</td>\n",
       "      <td>0.000533</td>\n",
       "      <td>0.285714</td>\n",
       "      <td>27.501832</td>\n",
       "      <td>0.000513</td>\n",
       "      <td>1.385456</td>\n",
       "    </tr>\n",
       "    <tr>\n",
       "      <td>2</td>\n",
       "      <td>(Zero Calorie Lemon Lime Twist Soda)</td>\n",
       "      <td>(Organic Avocado)</td>\n",
       "      <td>0.005860</td>\n",
       "      <td>0.002397</td>\n",
       "      <td>0.000533</td>\n",
       "      <td>0.090909</td>\n",
       "      <td>37.919192</td>\n",
       "      <td>0.000519</td>\n",
       "      <td>1.097363</td>\n",
       "    </tr>\n",
       "    <tr>\n",
       "      <td>3</td>\n",
       "      <td>(Organic Avocado)</td>\n",
       "      <td>(Zero Calorie Lemon Lime Twist Soda)</td>\n",
       "      <td>0.002397</td>\n",
       "      <td>0.005860</td>\n",
       "      <td>0.000533</td>\n",
       "      <td>0.222222</td>\n",
       "      <td>37.919192</td>\n",
       "      <td>0.000519</td>\n",
       "      <td>1.278179</td>\n",
       "    </tr>\n",
       "    <tr>\n",
       "      <td>4</td>\n",
       "      <td>(Strawberries)</td>\n",
       "      <td>(Coconut Almond Creamer Blend)</td>\n",
       "      <td>0.000533</td>\n",
       "      <td>0.000799</td>\n",
       "      <td>0.000533</td>\n",
       "      <td>1.000000</td>\n",
       "      <td>1251.333333</td>\n",
       "      <td>0.000532</td>\n",
       "      <td>inf</td>\n",
       "    </tr>\n",
       "  </tbody>\n",
       "</table>\n",
       "</div>"
      ],
      "text/plain": [
       "                            antecedents                           consequents  \\\n",
       "0      (Vegetarian Organic Golden Corn)                        (Organic Mint)   \n",
       "1                        (Organic Mint)      (Vegetarian Organic Golden Corn)   \n",
       "2  (Zero Calorie Lemon Lime Twist Soda)                     (Organic Avocado)   \n",
       "3                     (Organic Avocado)  (Zero Calorie Lemon Lime Twist Soda)   \n",
       "4                        (Strawberries)        (Coconut Almond Creamer Blend)   \n",
       "\n",
       "   antecedent support  consequent support   support  confidence         lift  \\\n",
       "0            0.010389            0.001865  0.000533    0.051282    27.501832   \n",
       "1            0.001865            0.010389  0.000533    0.285714    27.501832   \n",
       "2            0.005860            0.002397  0.000533    0.090909    37.919192   \n",
       "3            0.002397            0.005860  0.000533    0.222222    37.919192   \n",
       "4            0.000533            0.000799  0.000533    1.000000  1251.333333   \n",
       "\n",
       "   leverage  conviction  \n",
       "0  0.000513    1.052089  \n",
       "1  0.000513    1.385456  \n",
       "2  0.000519    1.097363  \n",
       "3  0.000519    1.278179  \n",
       "4  0.000532         inf  "
      ]
     },
     "execution_count": 54,
     "metadata": {},
     "output_type": "execute_result"
    }
   ],
   "source": [
    "rules.head()\n"
   ]
  },
  {
   "cell_type": "markdown",
   "metadata": {},
   "source": [
    "In the above example, the {Diaper} is the antecedent and the {Beer} is the consequent. Both antecedents and consequents can have multiple items. In other words, {Diaper, Gum} -> {Beer, Chips} is a valid rule.\n",
    "\n",
    "Support is the relative frequency that the rules show up. In many instances, you may want to look for high support in order to make sure it is a useful relationship. However, there may be instances where a low support is useful if you are trying to find “hidden” relationships.\n",
    "\n",
    "Confidence is a measure of the reliability of the rule. A confidence of .5 in the above example would mean that in 50% of the cases where Diaper and Gum were purchased, the purchase also included Beer and Chips. For product recommendation, a 50% confidence may be perfectly acceptable but in a medical situation, this level may not be high enough.\n",
    "\n",
    "Lift is the ratio of the observed support to that expected if the two rules were independent (see wikipedia). The basic rule of thumb is that a lift value close to 1 means the rules were completely independent. Lift values > 1 are generally more “interesting” and could be indicative of a useful rule pattern."
   ]
  },
  {
   "cell_type": "code",
   "execution_count": 55,
   "metadata": {},
   "outputs": [
    {
     "data": {
      "text/html": [
       "<div>\n",
       "<style scoped>\n",
       "    .dataframe tbody tr th:only-of-type {\n",
       "        vertical-align: middle;\n",
       "    }\n",
       "\n",
       "    .dataframe tbody tr th {\n",
       "        vertical-align: top;\n",
       "    }\n",
       "\n",
       "    .dataframe thead th {\n",
       "        text-align: right;\n",
       "    }\n",
       "</style>\n",
       "<table border=\"1\" class=\"dataframe\">\n",
       "  <thead>\n",
       "    <tr style=\"text-align: right;\">\n",
       "      <th></th>\n",
       "      <th>antecedents</th>\n",
       "      <th>consequents</th>\n",
       "      <th>antecedent support</th>\n",
       "      <th>consequent support</th>\n",
       "      <th>support</th>\n",
       "      <th>confidence</th>\n",
       "      <th>lift</th>\n",
       "      <th>leverage</th>\n",
       "      <th>conviction</th>\n",
       "    </tr>\n",
       "  </thead>\n",
       "  <tbody>\n",
       "    <tr>\n",
       "      <td>0</td>\n",
       "      <td>(Vegetarian Organic Golden Corn)</td>\n",
       "      <td>(Organic Mint)</td>\n",
       "      <td>0.010389</td>\n",
       "      <td>0.001865</td>\n",
       "      <td>0.000533</td>\n",
       "      <td>0.051282</td>\n",
       "      <td>27.501832</td>\n",
       "      <td>0.000513</td>\n",
       "      <td>1.052089</td>\n",
       "    </tr>\n",
       "    <tr>\n",
       "      <td>1</td>\n",
       "      <td>(Organic Mint)</td>\n",
       "      <td>(Vegetarian Organic Golden Corn)</td>\n",
       "      <td>0.001865</td>\n",
       "      <td>0.010389</td>\n",
       "      <td>0.000533</td>\n",
       "      <td>0.285714</td>\n",
       "      <td>27.501832</td>\n",
       "      <td>0.000513</td>\n",
       "      <td>1.385456</td>\n",
       "    </tr>\n",
       "    <tr>\n",
       "      <td>2</td>\n",
       "      <td>(Zero Calorie Lemon Lime Twist Soda)</td>\n",
       "      <td>(Organic Avocado)</td>\n",
       "      <td>0.005860</td>\n",
       "      <td>0.002397</td>\n",
       "      <td>0.000533</td>\n",
       "      <td>0.090909</td>\n",
       "      <td>37.919192</td>\n",
       "      <td>0.000519</td>\n",
       "      <td>1.097363</td>\n",
       "    </tr>\n",
       "    <tr>\n",
       "      <td>3</td>\n",
       "      <td>(Organic Avocado)</td>\n",
       "      <td>(Zero Calorie Lemon Lime Twist Soda)</td>\n",
       "      <td>0.002397</td>\n",
       "      <td>0.005860</td>\n",
       "      <td>0.000533</td>\n",
       "      <td>0.222222</td>\n",
       "      <td>37.919192</td>\n",
       "      <td>0.000519</td>\n",
       "      <td>1.278179</td>\n",
       "    </tr>\n",
       "    <tr>\n",
       "      <td>4</td>\n",
       "      <td>(Strawberries)</td>\n",
       "      <td>(Coconut Almond Creamer Blend)</td>\n",
       "      <td>0.000533</td>\n",
       "      <td>0.000799</td>\n",
       "      <td>0.000533</td>\n",
       "      <td>1.000000</td>\n",
       "      <td>1251.333333</td>\n",
       "      <td>0.000532</td>\n",
       "      <td>inf</td>\n",
       "    </tr>\n",
       "  </tbody>\n",
       "</table>\n",
       "</div>"
      ],
      "text/plain": [
       "                            antecedents                           consequents  \\\n",
       "0      (Vegetarian Organic Golden Corn)                        (Organic Mint)   \n",
       "1                        (Organic Mint)      (Vegetarian Organic Golden Corn)   \n",
       "2  (Zero Calorie Lemon Lime Twist Soda)                     (Organic Avocado)   \n",
       "3                     (Organic Avocado)  (Zero Calorie Lemon Lime Twist Soda)   \n",
       "4                        (Strawberries)        (Coconut Almond Creamer Blend)   \n",
       "\n",
       "   antecedent support  consequent support   support  confidence         lift  \\\n",
       "0            0.010389            0.001865  0.000533    0.051282    27.501832   \n",
       "1            0.001865            0.010389  0.000533    0.285714    27.501832   \n",
       "2            0.005860            0.002397  0.000533    0.090909    37.919192   \n",
       "3            0.002397            0.005860  0.000533    0.222222    37.919192   \n",
       "4            0.000533            0.000799  0.000533    1.000000  1251.333333   \n",
       "\n",
       "   leverage  conviction  \n",
       "0  0.000513    1.052089  \n",
       "1  0.000513    1.385456  \n",
       "2  0.000519    1.097363  \n",
       "3  0.000519    1.278179  \n",
       "4  0.000532         inf  "
      ]
     },
     "execution_count": 55,
     "metadata": {},
     "output_type": "execute_result"
    }
   ],
   "source": [
    "#sorts to see the lift greater than or equal to 1\n",
    "rules[rules['lift'] >= 1.5].head()"
   ]
  },
  {
   "cell_type": "markdown",
   "metadata": {},
   "source": [
    "Market Basket for Products - Tasks"
   ]
  },
  {
   "cell_type": "markdown",
   "metadata": {},
   "source": [
    "Need to filter out products that have been reordered to reduce the size of the product matrix. Once I have the reordered products, I can join the one hot encoded items to the order Id's"
   ]
  },
  {
   "cell_type": "code",
   "execution_count": 32,
   "metadata": {},
   "outputs": [],
   "source": [
    "reorders = opt[opt['reordered'] == 1]\n"
   ]
  },
  {
   "cell_type": "code",
   "execution_count": 33,
   "metadata": {},
   "outputs": [
    {
     "name": "stderr",
     "output_type": "stream",
     "text": [
      "//anaconda3/lib/python3.7/site-packages/ipykernel_launcher.py:1: SettingWithCopyWarning: \n",
      "A value is trying to be set on a copy of a slice from a DataFrame.\n",
      "Try using .loc[row_indexer,col_indexer] = value instead\n",
      "\n",
      "See the caveats in the documentation: http://pandas.pydata.org/pandas-docs/stable/user_guide/indexing.html#returning-a-view-versus-a-copy\n",
      "  \"\"\"Entry point for launching an IPython kernel.\n"
     ]
    }
   ],
   "source": [
    "reorders['product_id'] = reorders['product_id'].astype('int64')\n"
   ]
  },
  {
   "cell_type": "code",
   "execution_count": 34,
   "metadata": {},
   "outputs": [
    {
     "data": {
      "text/plain": [
       "(828824, 9)"
      ]
     },
     "execution_count": 34,
     "metadata": {},
     "output_type": "execute_result"
    }
   ],
   "source": [
    "reorders.head()\n",
    "reorders.shape"
   ]
  },
  {
   "cell_type": "code",
   "execution_count": 35,
   "metadata": {},
   "outputs": [
    {
     "data": {
      "text/plain": [
       "order_id              int64\n",
       "product_id            int64\n",
       "add_to_cart_order     int64\n",
       "reordered             int64\n",
       "product_name         object\n",
       "aisle_id             object\n",
       "department_id         int64\n",
       "department           object\n",
       "aisle                object\n",
       "dtype: object"
      ]
     },
     "execution_count": 35,
     "metadata": {},
     "output_type": "execute_result"
    }
   ],
   "source": [
    "reorders.dtypes\n"
   ]
  },
  {
   "cell_type": "code",
   "execution_count": 36,
   "metadata": {},
   "outputs": [],
   "source": [
    "# get list of hi volume products (products that occurr more than 1 times)\n",
    "hivol = reorders.copy()['product_id'].value_counts().sort_values(ascending=False)\\\n",
    "    [reorders.copy()['product_id'].value_counts().sort_values(ascending=False) > 1].index.tolist()"
   ]
  },
  {
   "cell_type": "code",
   "execution_count": 37,
   "metadata": {},
   "outputs": [],
   "source": [
    "# mask the reorders dataframe to only include the high vol prods\n",
    "reorders = reorders[reorders['product_id'].isin(hivol)]"
   ]
  },
  {
   "cell_type": "code",
   "execution_count": 75,
   "metadata": {},
   "outputs": [],
   "source": [
    "#reorders['hi_dem'] = \n",
    "reorders['hi_dem'] = (reorders.copy()['product_id'].value_counts().sort_values(ascending=False)>1)"
   ]
  },
  {
   "cell_type": "code",
   "execution_count": 76,
   "metadata": {},
   "outputs": [],
   "source": [
    "hidem_ord = reorders[reorders['hi_dem'] == True]\n"
   ]
  },
  {
   "cell_type": "code",
   "execution_count": 77,
   "metadata": {},
   "outputs": [
    {
     "name": "stderr",
     "output_type": "stream",
     "text": [
      "//anaconda3/lib/python3.7/site-packages/ipykernel_launcher.py:1: SettingWithCopyWarning: \n",
      "A value is trying to be set on a copy of a slice from a DataFrame.\n",
      "Try using .loc[row_indexer,col_indexer] = value instead\n",
      "\n",
      "See the caveats in the documentation: http://pandas.pydata.org/pandas-docs/stable/user_guide/indexing.html#returning-a-view-versus-a-copy\n",
      "  \"\"\"Entry point for launching an IPython kernel.\n"
     ]
    }
   ],
   "source": [
    "hidem_ord['product_id'] = hidem_ord.copy()['product_id'].astype(str)\n"
   ]
  },
  {
   "cell_type": "code",
   "execution_count": 78,
   "metadata": {},
   "outputs": [],
   "source": [
    "#tranposes the data to ensure that it is correctly fitted.\n",
    "product = ohe.fit_transform(hidem_ord['product_id'].values.reshape(-1,1))"
   ]
  },
  {
   "cell_type": "code",
   "execution_count": 79,
   "metadata": {},
   "outputs": [
    {
     "name": "stderr",
     "output_type": "stream",
     "text": [
      "//anaconda3/lib/python3.7/site-packages/ipykernel_launcher.py:2: FutureWarning: DataFrame/Series.to_dense is deprecated and will be removed in a future version\n",
      "  \n"
     ]
    }
   ],
   "source": [
    "p_ohe = pd.DataFrame(product.toarray())\n",
    "products = p_ohe.to_dense()"
   ]
  },
  {
   "cell_type": "code",
   "execution_count": 80,
   "metadata": {},
   "outputs": [
    {
     "data": {
      "text/plain": [
       "(13087, 4823)"
      ]
     },
     "execution_count": 80,
     "metadata": {},
     "output_type": "execute_result"
    }
   ],
   "source": [
    "products.shape\n"
   ]
  },
  {
   "cell_type": "code",
   "execution_count": 81,
   "metadata": {},
   "outputs": [],
   "source": [
    "basket = hidem_ord[['order_id']].join(products)\n"
   ]
  },
  {
   "cell_type": "code",
   "execution_count": 82,
   "metadata": {},
   "outputs": [],
   "source": [
    "#return the total items in the basket from the aisles\n",
    "basket = basket.groupby('order_id').sum()"
   ]
  },
  {
   "cell_type": "code",
   "execution_count": 83,
   "metadata": {},
   "outputs": [],
   "source": [
    "#covert any values to be a binary.\n",
    "def encode_units(x):\n",
    "    if x <= 0:\n",
    "        return 0\n",
    "    if x >= 1:\n",
    "        return 1\n",
    "\n",
    "basket_sets = basket.applymap(encode_units)"
   ]
  },
  {
   "cell_type": "code",
   "execution_count": 84,
   "metadata": {},
   "outputs": [
    {
     "name": "stderr",
     "output_type": "stream",
     "text": [
      "//anaconda3/lib/python3.7/site-packages/ipykernel_launcher.py:1: DeprecationWarning: Numeric-style type codes are deprecated and will result in an error in the future.\n",
      "  \"\"\"Entry point for launching an IPython kernel.\n"
     ]
    }
   ],
   "source": [
    "pro_dict = dict(zip(hidem_ord['product_id'].unique().astype('Int64'),hidem_ord['product_name'].unique()))"
   ]
  },
  {
   "cell_type": "code",
   "execution_count": 85,
   "metadata": {},
   "outputs": [],
   "source": [
    "len(pro_dict)\n",
    "pro_dict = dict(zip(list(range(0,len(hidem_ord['product_id'].unique()))),hidem_ord['product_name'].unique()))"
   ]
  },
  {
   "cell_type": "code",
   "execution_count": 86,
   "metadata": {},
   "outputs": [],
   "source": [
    "#rename the columns for easier analysis in rules. \n",
    "basket_sets.columns = list(range(0,len(pro_dict)))\n",
    "basket_sets.rename(columns=pro_dict,inplace=True)"
   ]
  },
  {
   "cell_type": "code",
   "execution_count": 87,
   "metadata": {},
   "outputs": [
    {
     "data": {
      "text/plain": [
       "Organic 4% Milk Fat Whole Milk Cottage Cheese    0\n",
       "Lightly Smoked Sardines in Olive Oil             0\n",
       "Spring Water                                     2\n",
       "Cage Free Extra Large Grade AA Eggs              2\n",
       "Roasted Turkey                                   0\n",
       "dtype: int64"
      ]
     },
     "execution_count": 87,
     "metadata": {},
     "output_type": "execute_result"
    }
   ],
   "source": [
    "basket_sets.sum().head()\n"
   ]
  },
  {
   "cell_type": "code",
   "execution_count": 88,
   "metadata": {},
   "outputs": [],
   "source": [
    "#creates conditions for the items in the basket.\n",
    "frequent_itemsets = apriori(basket_sets, min_support=0.0005, use_colnames=True)"
   ]
  },
  {
   "cell_type": "code",
   "execution_count": 89,
   "metadata": {},
   "outputs": [],
   "source": [
    "#creates the rules to filter.\n",
    "rules = association_rules(frequent_itemsets, metric=\"lift\", min_threshold=1)\n",
    "rules = rules[['antecedents','consequents','confidence','lift']]"
   ]
  },
  {
   "cell_type": "markdown",
   "metadata": {},
   "source": [
    "Market Basket for Products"
   ]
  },
  {
   "cell_type": "code",
   "execution_count": 60,
   "metadata": {},
   "outputs": [
    {
     "data": {
      "text/html": [
       "<div>\n",
       "<style scoped>\n",
       "    .dataframe tbody tr th:only-of-type {\n",
       "        vertical-align: middle;\n",
       "    }\n",
       "\n",
       "    .dataframe tbody tr th {\n",
       "        vertical-align: top;\n",
       "    }\n",
       "\n",
       "    .dataframe thead th {\n",
       "        text-align: right;\n",
       "    }\n",
       "</style>\n",
       "<table border=\"1\" class=\"dataframe\">\n",
       "  <thead>\n",
       "    <tr style=\"text-align: right;\">\n",
       "      <th></th>\n",
       "      <th>antecedents</th>\n",
       "      <th>consequents</th>\n",
       "      <th>confidence</th>\n",
       "      <th>lift</th>\n",
       "    </tr>\n",
       "  </thead>\n",
       "  <tbody>\n",
       "    <tr>\n",
       "      <td>4</td>\n",
       "      <td>(Strawberries)</td>\n",
       "      <td>(Coconut Almond Creamer Blend)</td>\n",
       "      <td>1.000000</td>\n",
       "      <td>1251.333333</td>\n",
       "    </tr>\n",
       "    <tr>\n",
       "      <td>5</td>\n",
       "      <td>(Coconut Almond Creamer Blend)</td>\n",
       "      <td>(Strawberries)</td>\n",
       "      <td>0.666667</td>\n",
       "      <td>1251.333333</td>\n",
       "    </tr>\n",
       "    <tr>\n",
       "      <td>49</td>\n",
       "      <td>(Sliced Mushrooms)</td>\n",
       "      <td>(Organic Long Grain Brown Rice)</td>\n",
       "      <td>1.000000</td>\n",
       "      <td>268.142857</td>\n",
       "    </tr>\n",
       "    <tr>\n",
       "      <td>98</td>\n",
       "      <td>(Dryer Sheet Free &amp; Gentle Fabric Softener)</td>\n",
       "      <td>(Organic Milk Reduced Fat, 2% Milkfat)</td>\n",
       "      <td>0.666667</td>\n",
       "      <td>357.523810</td>\n",
       "    </tr>\n",
       "    <tr>\n",
       "      <td>102</td>\n",
       "      <td>(Organic YoKids Smoothie Strawberry Banana Low...</td>\n",
       "      <td>(Organic Lasagna with Meat Sauce)</td>\n",
       "      <td>1.000000</td>\n",
       "      <td>220.823529</td>\n",
       "    </tr>\n",
       "    <tr>\n",
       "      <td>104</td>\n",
       "      <td>(Hass Avocado Variety)</td>\n",
       "      <td>(Thick &amp; Chunky Salsa)</td>\n",
       "      <td>1.000000</td>\n",
       "      <td>170.636364</td>\n",
       "    </tr>\n",
       "    <tr>\n",
       "      <td>125</td>\n",
       "      <td>(Natural Care Baby Wipes Fragrance Free)</td>\n",
       "      <td>(Original Enriched Parboiled Long Grain Rice)</td>\n",
       "      <td>1.000000</td>\n",
       "      <td>150.160000</td>\n",
       "    </tr>\n",
       "    <tr>\n",
       "      <td>142</td>\n",
       "      <td>(Organic Ezekiel 4:9 Sesame Bread)</td>\n",
       "      <td>(Cuties Non Dairy Vanilla Frozen Dessert Sandw...</td>\n",
       "      <td>0.666667</td>\n",
       "      <td>417.111111</td>\n",
       "    </tr>\n",
       "    <tr>\n",
       "      <td>157</td>\n",
       "      <td>(Roasted Seaweed Snacks)</td>\n",
       "      <td>(Organic Cotton Panty Liners)</td>\n",
       "      <td>0.666667</td>\n",
       "      <td>312.833333</td>\n",
       "    </tr>\n",
       "    <tr>\n",
       "      <td>158</td>\n",
       "      <td>(Made Good Chocolate Chip Granola Bars)</td>\n",
       "      <td>(Organic Lasagna with Meat Sauce)</td>\n",
       "      <td>1.000000</td>\n",
       "      <td>220.823529</td>\n",
       "    </tr>\n",
       "    <tr>\n",
       "      <td>161</td>\n",
       "      <td>(Pop-Tarts Frosted Strawberry Toaster Pastries)</td>\n",
       "      <td>(Original Enriched Parboiled Long Grain Rice)</td>\n",
       "      <td>0.666667</td>\n",
       "      <td>100.106667</td>\n",
       "    </tr>\n",
       "    <tr>\n",
       "      <td>171</td>\n",
       "      <td>(Disinfecting Wipes, Lemon)</td>\n",
       "      <td>(Gluten Free Panko Breadcrumbs)</td>\n",
       "      <td>1.000000</td>\n",
       "      <td>938.500000</td>\n",
       "    </tr>\n",
       "    <tr>\n",
       "      <td>184</td>\n",
       "      <td>(Wicked Fresh! Spearmint Ice Toothpaste, Lemon...</td>\n",
       "      <td>(Original Enriched Parboiled Long Grain Rice)</td>\n",
       "      <td>0.666667</td>\n",
       "      <td>100.106667</td>\n",
       "    </tr>\n",
       "    <tr>\n",
       "      <td>190</td>\n",
       "      <td>(Canned Aranciata Orange, Lemon Hummus)</td>\n",
       "      <td>(Zero Calorie Lemon Lime Twist Soda)</td>\n",
       "      <td>0.666667</td>\n",
       "      <td>113.757576</td>\n",
       "    </tr>\n",
       "    <tr>\n",
       "      <td>196</td>\n",
       "      <td>(12 Grain Bread, Lemon Hummus)</td>\n",
       "      <td>(Original Enriched Parboiled Long Grain Rice)</td>\n",
       "      <td>0.666667</td>\n",
       "      <td>100.106667</td>\n",
       "    </tr>\n",
       "  </tbody>\n",
       "</table>\n",
       "</div>"
      ],
      "text/plain": [
       "                                           antecedents  \\\n",
       "4                                       (Strawberries)   \n",
       "5                       (Coconut Almond Creamer Blend)   \n",
       "49                                  (Sliced Mushrooms)   \n",
       "98         (Dryer Sheet Free & Gentle Fabric Softener)   \n",
       "102  (Organic YoKids Smoothie Strawberry Banana Low...   \n",
       "104                             (Hass Avocado Variety)   \n",
       "125           (Natural Care Baby Wipes Fragrance Free)   \n",
       "142                 (Organic Ezekiel 4:9 Sesame Bread)   \n",
       "157                           (Roasted Seaweed Snacks)   \n",
       "158            (Made Good Chocolate Chip Granola Bars)   \n",
       "161    (Pop-Tarts Frosted Strawberry Toaster Pastries)   \n",
       "171                        (Disinfecting Wipes, Lemon)   \n",
       "184  (Wicked Fresh! Spearmint Ice Toothpaste, Lemon...   \n",
       "190            (Canned Aranciata Orange, Lemon Hummus)   \n",
       "196                     (12 Grain Bread, Lemon Hummus)   \n",
       "\n",
       "                                           consequents  confidence  \\\n",
       "4                       (Coconut Almond Creamer Blend)    1.000000   \n",
       "5                                       (Strawberries)    0.666667   \n",
       "49                     (Organic Long Grain Brown Rice)    1.000000   \n",
       "98              (Organic Milk Reduced Fat, 2% Milkfat)    0.666667   \n",
       "102                  (Organic Lasagna with Meat Sauce)    1.000000   \n",
       "104                             (Thick & Chunky Salsa)    1.000000   \n",
       "125      (Original Enriched Parboiled Long Grain Rice)    1.000000   \n",
       "142  (Cuties Non Dairy Vanilla Frozen Dessert Sandw...    0.666667   \n",
       "157                      (Organic Cotton Panty Liners)    0.666667   \n",
       "158                  (Organic Lasagna with Meat Sauce)    1.000000   \n",
       "161      (Original Enriched Parboiled Long Grain Rice)    0.666667   \n",
       "171                    (Gluten Free Panko Breadcrumbs)    1.000000   \n",
       "184      (Original Enriched Parboiled Long Grain Rice)    0.666667   \n",
       "190               (Zero Calorie Lemon Lime Twist Soda)    0.666667   \n",
       "196      (Original Enriched Parboiled Long Grain Rice)    0.666667   \n",
       "\n",
       "            lift  \n",
       "4    1251.333333  \n",
       "5    1251.333333  \n",
       "49    268.142857  \n",
       "98    357.523810  \n",
       "102   220.823529  \n",
       "104   170.636364  \n",
       "125   150.160000  \n",
       "142   417.111111  \n",
       "157   312.833333  \n",
       "158   220.823529  \n",
       "161   100.106667  \n",
       "171   938.500000  \n",
       "184   100.106667  \n",
       "190   113.757576  \n",
       "196   100.106667  "
      ]
     },
     "execution_count": 60,
     "metadata": {},
     "output_type": "execute_result"
    }
   ],
   "source": [
    "rules[(rules['lift'] >= 100) & (rules['confidence']>.5)]\n"
   ]
  },
  {
   "cell_type": "code",
   "execution_count": 102,
   "metadata": {},
   "outputs": [],
   "source": []
  },
  {
   "cell_type": "code",
   "execution_count": 100,
   "metadata": {},
   "outputs": [
    {
     "data": {
      "text/html": [
       "<div>\n",
       "<style scoped>\n",
       "    .dataframe tbody tr th:only-of-type {\n",
       "        vertical-align: middle;\n",
       "    }\n",
       "\n",
       "    .dataframe tbody tr th {\n",
       "        vertical-align: top;\n",
       "    }\n",
       "\n",
       "    .dataframe thead th {\n",
       "        text-align: right;\n",
       "    }\n",
       "</style>\n",
       "<table border=\"1\" class=\"dataframe\">\n",
       "  <thead>\n",
       "    <tr style=\"text-align: right;\">\n",
       "      <th></th>\n",
       "      <th>antecedents</th>\n",
       "      <th>consequents</th>\n",
       "      <th>antecedent support</th>\n",
       "      <th>consequent support</th>\n",
       "      <th>support</th>\n",
       "      <th>confidence</th>\n",
       "      <th>lift</th>\n",
       "      <th>leverage</th>\n",
       "      <th>conviction</th>\n",
       "    </tr>\n",
       "  </thead>\n",
       "  <tbody>\n",
       "    <tr>\n",
       "      <td>8</td>\n",
       "      <td>(4041)</td>\n",
       "      <td>(1751)</td>\n",
       "      <td>0.004561</td>\n",
       "      <td>0.003110</td>\n",
       "      <td>0.000829</td>\n",
       "      <td>0.181818</td>\n",
       "      <td>58.460606</td>\n",
       "      <td>0.000815</td>\n",
       "      <td>1.218421</td>\n",
       "    </tr>\n",
       "    <tr>\n",
       "      <td>9</td>\n",
       "      <td>(1751)</td>\n",
       "      <td>(4041)</td>\n",
       "      <td>0.003110</td>\n",
       "      <td>0.004561</td>\n",
       "      <td>0.000829</td>\n",
       "      <td>0.266667</td>\n",
       "      <td>58.460606</td>\n",
       "      <td>0.000815</td>\n",
       "      <td>1.357416</td>\n",
       "    </tr>\n",
       "    <tr>\n",
       "      <td>6</td>\n",
       "      <td>(1288)</td>\n",
       "      <td>(1609)</td>\n",
       "      <td>0.006428</td>\n",
       "      <td>0.008294</td>\n",
       "      <td>0.000829</td>\n",
       "      <td>0.129032</td>\n",
       "      <td>15.558065</td>\n",
       "      <td>0.000776</td>\n",
       "      <td>1.138626</td>\n",
       "    </tr>\n",
       "    <tr>\n",
       "      <td>7</td>\n",
       "      <td>(1609)</td>\n",
       "      <td>(1288)</td>\n",
       "      <td>0.008294</td>\n",
       "      <td>0.006428</td>\n",
       "      <td>0.000829</td>\n",
       "      <td>0.100000</td>\n",
       "      <td>15.558065</td>\n",
       "      <td>0.000776</td>\n",
       "      <td>1.103969</td>\n",
       "    </tr>\n",
       "    <tr>\n",
       "      <td>4</td>\n",
       "      <td>(4041)</td>\n",
       "      <td>(342)</td>\n",
       "      <td>0.004561</td>\n",
       "      <td>0.012648</td>\n",
       "      <td>0.000829</td>\n",
       "      <td>0.181818</td>\n",
       "      <td>14.375559</td>\n",
       "      <td>0.000772</td>\n",
       "      <td>1.206764</td>\n",
       "    </tr>\n",
       "  </tbody>\n",
       "</table>\n",
       "</div>"
      ],
      "text/plain": [
       "  antecedents consequents  antecedent support  consequent support   support  \\\n",
       "8      (4041)      (1751)            0.004561            0.003110  0.000829   \n",
       "9      (1751)      (4041)            0.003110            0.004561  0.000829   \n",
       "6      (1288)      (1609)            0.006428            0.008294  0.000829   \n",
       "7      (1609)      (1288)            0.008294            0.006428  0.000829   \n",
       "4      (4041)       (342)            0.004561            0.012648  0.000829   \n",
       "\n",
       "   confidence       lift  leverage  conviction  \n",
       "8    0.181818  58.460606  0.000815    1.218421  \n",
       "9    0.266667  58.460606  0.000815    1.357416  \n",
       "6    0.129032  15.558065  0.000776    1.138626  \n",
       "7    0.100000  15.558065  0.000776    1.103969  \n",
       "4    0.181818  14.375559  0.000772    1.206764  "
      ]
     },
     "execution_count": 100,
     "metadata": {},
     "output_type": "execute_result"
    }
   ],
   "source": [
    "rules.sort_values(['lift','confidence'],ascending=False).head()\n"
   ]
  },
  {
   "cell_type": "code",
   "execution_count": 101,
   "metadata": {},
   "outputs": [],
   "source": []
  },
  {
   "cell_type": "code",
   "execution_count": 103,
   "metadata": {},
   "outputs": [
    {
     "name": "stderr",
     "output_type": "stream",
     "text": [
      "//anaconda3/lib/python3.7/site-packages/ipykernel_launcher.py:1: SettingWithCopyWarning: \n",
      "A value is trying to be set on a copy of a slice from a DataFrame.\n",
      "Try using .loc[row_indexer,col_indexer] = value instead\n",
      "\n",
      "See the caveats in the documentation: http://pandas.pydata.org/pandas-docs/stable/user_guide/indexing.html#returning-a-view-versus-a-copy\n",
      "  \"\"\"Entry point for launching an IPython kernel.\n"
     ]
    }
   ],
   "source": [
    "hidem_ord['product_id'] = hidem_ord.copy()['product_id'].astype(str)\n"
   ]
  },
  {
   "cell_type": "code",
   "execution_count": 104,
   "metadata": {},
   "outputs": [],
   "source": [
    "#tranposes the data to ensure that it is correctly fitted.\n",
    "product = ohe.fit_transform(hidem_ord['product_id'].values.reshape(-1,1))"
   ]
  },
  {
   "cell_type": "code",
   "execution_count": 105,
   "metadata": {},
   "outputs": [
    {
     "name": "stderr",
     "output_type": "stream",
     "text": [
      "//anaconda3/lib/python3.7/site-packages/ipykernel_launcher.py:2: FutureWarning: DataFrame/Series.to_dense is deprecated and will be removed in a future version\n",
      "  \n"
     ]
    }
   ],
   "source": [
    "p_ohe = pd.DataFrame(product.toarray())\n",
    "products = p_ohe.to_dense()"
   ]
  },
  {
   "cell_type": "code",
   "execution_count": 106,
   "metadata": {},
   "outputs": [],
   "source": [
    "basket = hidem_ord[['product_id']].join(products)"
   ]
  },
  {
   "cell_type": "code",
   "execution_count": 107,
   "metadata": {},
   "outputs": [],
   "source": [
    "#return the total items in the basket from the aisles\n",
    "basket = basket.groupby('product_id').sum()"
   ]
  },
  {
   "cell_type": "code",
   "execution_count": 108,
   "metadata": {},
   "outputs": [],
   "source": [
    "#covert any values to be a binary.\n",
    "def encode_units(x):\n",
    "    if x <= 0:\n",
    "        return 0\n",
    "    if x >= 1:\n",
    "        return 1\n",
    "\n",
    "basket_sets = basket.applymap(encode_units)"
   ]
  },
  {
   "cell_type": "code",
   "execution_count": 109,
   "metadata": {},
   "outputs": [],
   "source": [
    "#creates conditions for the items in the basket.\n",
    "frequent_itemsets = apriori(basket_sets, min_support=0.0007, use_colnames=True)"
   ]
  },
  {
   "cell_type": "code",
   "execution_count": 112,
   "metadata": {},
   "outputs": [],
   "source": [
    "#creates the rules to filter.\n",
    "rules = association_rules(frequent_itemsets, metric=\"lift\", min_threshold=1)\n",
    "rules = association_rules(frequent_itemsets, metric=\"lift\", min_threshold=1)\n",
    "rules = rules[['antecedents','consequents','confidence','lift']]"
   ]
  },
  {
   "cell_type": "code",
   "execution_count": 113,
   "metadata": {},
   "outputs": [
    {
     "data": {
      "text/html": [
       "<div>\n",
       "<style scoped>\n",
       "    .dataframe tbody tr th:only-of-type {\n",
       "        vertical-align: middle;\n",
       "    }\n",
       "\n",
       "    .dataframe tbody tr th {\n",
       "        vertical-align: top;\n",
       "    }\n",
       "\n",
       "    .dataframe thead th {\n",
       "        text-align: right;\n",
       "    }\n",
       "</style>\n",
       "<table border=\"1\" class=\"dataframe\">\n",
       "  <thead>\n",
       "    <tr style=\"text-align: right;\">\n",
       "      <th></th>\n",
       "      <th>antecedents</th>\n",
       "      <th>consequents</th>\n",
       "      <th>confidence</th>\n",
       "      <th>lift</th>\n",
       "    </tr>\n",
       "  </thead>\n",
       "  <tbody>\n",
       "    <tr>\n",
       "      <td>8</td>\n",
       "      <td>(4041)</td>\n",
       "      <td>(1751)</td>\n",
       "      <td>0.181818</td>\n",
       "      <td>58.460606</td>\n",
       "    </tr>\n",
       "    <tr>\n",
       "      <td>9</td>\n",
       "      <td>(1751)</td>\n",
       "      <td>(4041)</td>\n",
       "      <td>0.266667</td>\n",
       "      <td>58.460606</td>\n",
       "    </tr>\n",
       "    <tr>\n",
       "      <td>6</td>\n",
       "      <td>(1288)</td>\n",
       "      <td>(1609)</td>\n",
       "      <td>0.129032</td>\n",
       "      <td>15.558065</td>\n",
       "    </tr>\n",
       "    <tr>\n",
       "      <td>7</td>\n",
       "      <td>(1609)</td>\n",
       "      <td>(1288)</td>\n",
       "      <td>0.100000</td>\n",
       "      <td>15.558065</td>\n",
       "    </tr>\n",
       "    <tr>\n",
       "      <td>4</td>\n",
       "      <td>(4041)</td>\n",
       "      <td>(342)</td>\n",
       "      <td>0.181818</td>\n",
       "      <td>14.375559</td>\n",
       "    </tr>\n",
       "  </tbody>\n",
       "</table>\n",
       "</div>"
      ],
      "text/plain": [
       "  antecedents consequents  confidence       lift\n",
       "8      (4041)      (1751)    0.181818  58.460606\n",
       "9      (1751)      (4041)    0.266667  58.460606\n",
       "6      (1288)      (1609)    0.129032  15.558065\n",
       "7      (1609)      (1288)    0.100000  15.558065\n",
       "4      (4041)       (342)    0.181818  14.375559"
      ]
     },
     "execution_count": 113,
     "metadata": {},
     "output_type": "execute_result"
    }
   ],
   "source": [
    "rules.sort_values(['lift','confidence'],ascending=False).head()\n"
   ]
  },
  {
   "cell_type": "code",
   "execution_count": 114,
   "metadata": {},
   "outputs": [],
   "source": [
    "#rename the columns for easier analysis in rules. \n",
    "basket_sets.columns = list(range(0,len(pro_dict)))\n",
    "basket_sets.rename(columns=pro_dict,inplace=True)"
   ]
  },
  {
   "cell_type": "code",
   "execution_count": 115,
   "metadata": {},
   "outputs": [],
   "source": [
    "user_orders = reorders.merge(orders)\n"
   ]
  },
  {
   "cell_type": "code",
   "execution_count": 116,
   "metadata": {},
   "outputs": [],
   "source": [
    "hidem_ord = user_orders[user_orders['hi_dem'] == True]\n"
   ]
  },
  {
   "cell_type": "code",
   "execution_count": 117,
   "metadata": {},
   "outputs": [
    {
     "name": "stderr",
     "output_type": "stream",
     "text": [
      "//anaconda3/lib/python3.7/site-packages/ipykernel_launcher.py:1: SettingWithCopyWarning: \n",
      "A value is trying to be set on a copy of a slice from a DataFrame.\n",
      "Try using .loc[row_indexer,col_indexer] = value instead\n",
      "\n",
      "See the caveats in the documentation: http://pandas.pydata.org/pandas-docs/stable/user_guide/indexing.html#returning-a-view-versus-a-copy\n",
      "  \"\"\"Entry point for launching an IPython kernel.\n"
     ]
    }
   ],
   "source": [
    "hidem_ord['product_id'] = hidem_ord.copy()['product_id'].astype(str)\n"
   ]
  },
  {
   "cell_type": "code",
   "execution_count": 118,
   "metadata": {},
   "outputs": [],
   "source": [
    "#tranposes the data to ensure that it is correctly fitted.\n",
    "product = ohe.fit_transform(hidem_ord['product_id'].values.reshape(-1,1))"
   ]
  },
  {
   "cell_type": "code",
   "execution_count": 119,
   "metadata": {},
   "outputs": [
    {
     "name": "stderr",
     "output_type": "stream",
     "text": [
      "//anaconda3/lib/python3.7/site-packages/ipykernel_launcher.py:2: FutureWarning: DataFrame/Series.to_dense is deprecated and will be removed in a future version\n",
      "  \n"
     ]
    }
   ],
   "source": [
    "p_ohe = pd.DataFrame(product.toarray())\n",
    "products = p_ohe.to_dense()"
   ]
  },
  {
   "cell_type": "code",
   "execution_count": 120,
   "metadata": {},
   "outputs": [],
   "source": [
    "basket = hidem_ord[['user_id']].join(products)\n"
   ]
  },
  {
   "cell_type": "code",
   "execution_count": 121,
   "metadata": {},
   "outputs": [],
   "source": [
    "#return the total items in the basket from the aisles\n",
    "basket = basket.groupby('user_id').sum()"
   ]
  },
  {
   "cell_type": "code",
   "execution_count": 122,
   "metadata": {},
   "outputs": [],
   "source": [
    "def encode_units(x):\n",
    "    if x <= 0:\n",
    "        return 0\n",
    "    if x >= 1:\n",
    "        return 1\n",
    "\n",
    "basket_sets = basket.applymap(encode_units)"
   ]
  },
  {
   "cell_type": "code",
   "execution_count": 132,
   "metadata": {},
   "outputs": [],
   "source": [
    "#creates conditions for the items in the basket.\n",
    "frequent_itemsets = apriori(basket_sets, min_support=0.0007, use_colnames=True)"
   ]
  },
  {
   "cell_type": "code",
   "execution_count": 125,
   "metadata": {},
   "outputs": [],
   "source": [
    "#creates the rules to filter.\n",
    "rules = association_rules(frequent_itemsets, metric=\"lift\", min_threshold=1)\n",
    "rules = rules[['antecedents','consequents','confidence','lift']]"
   ]
  },
  {
   "cell_type": "code",
   "execution_count": 127,
   "metadata": {},
   "outputs": [
    {
     "data": {
      "text/html": [
       "<div>\n",
       "<style scoped>\n",
       "    .dataframe tbody tr th:only-of-type {\n",
       "        vertical-align: middle;\n",
       "    }\n",
       "\n",
       "    .dataframe tbody tr th {\n",
       "        vertical-align: top;\n",
       "    }\n",
       "\n",
       "    .dataframe thead th {\n",
       "        text-align: right;\n",
       "    }\n",
       "</style>\n",
       "<table border=\"1\" class=\"dataframe\">\n",
       "  <thead>\n",
       "    <tr style=\"text-align: right;\">\n",
       "      <th></th>\n",
       "      <th>antecedents</th>\n",
       "      <th>consequents</th>\n",
       "      <th>confidence</th>\n",
       "      <th>lift</th>\n",
       "    </tr>\n",
       "  </thead>\n",
       "  <tbody>\n",
       "    <tr>\n",
       "      <td>36</td>\n",
       "      <td>(1609)</td>\n",
       "      <td>(1199)</td>\n",
       "      <td>0.025000</td>\n",
       "      <td>1.400746</td>\n",
       "    </tr>\n",
       "    <tr>\n",
       "      <td>37</td>\n",
       "      <td>(1199)</td>\n",
       "      <td>(1609)</td>\n",
       "      <td>0.044776</td>\n",
       "      <td>1.400746</td>\n",
       "    </tr>\n",
       "    <tr>\n",
       "      <td>29</td>\n",
       "      <td>(342)</td>\n",
       "      <td>(4057)</td>\n",
       "      <td>0.030303</td>\n",
       "      <td>2.321583</td>\n",
       "    </tr>\n",
       "    <tr>\n",
       "      <td>28</td>\n",
       "      <td>(4057)</td>\n",
       "      <td>(342)</td>\n",
       "      <td>0.061224</td>\n",
       "      <td>2.321583</td>\n",
       "    </tr>\n",
       "    <tr>\n",
       "      <td>76</td>\n",
       "      <td>(1609)</td>\n",
       "      <td>(1942)</td>\n",
       "      <td>0.025000</td>\n",
       "      <td>2.843939</td>\n",
       "    </tr>\n",
       "  </tbody>\n",
       "</table>\n",
       "</div>"
      ],
      "text/plain": [
       "   antecedents consequents  confidence      lift\n",
       "36      (1609)      (1199)    0.025000  1.400746\n",
       "37      (1199)      (1609)    0.044776  1.400746\n",
       "29       (342)      (4057)    0.030303  2.321583\n",
       "28      (4057)       (342)    0.061224  2.321583\n",
       "76      (1609)      (1942)    0.025000  2.843939"
      ]
     },
     "execution_count": 127,
     "metadata": {},
     "output_type": "execute_result"
    }
   ],
   "source": [
    "rules.sort_values(['lift','confidence'],ascending=True).head()\n"
   ]
  },
  {
   "cell_type": "code",
   "execution_count": null,
   "metadata": {},
   "outputs": [],
   "source": []
  },
  {
   "cell_type": "markdown",
   "metadata": {},
   "source": []
  },
  {
   "cell_type": "raw",
   "metadata": {},
   "source": []
  },
  {
   "cell_type": "code",
   "execution_count": null,
   "metadata": {},
   "outputs": [],
   "source": []
  }
 ],
 "metadata": {
  "kernelspec": {
   "display_name": "Python 3",
   "language": "python",
   "name": "python3"
  },
  "language_info": {
   "codemirror_mode": {
    "name": "ipython",
    "version": 3
   },
   "file_extension": ".py",
   "mimetype": "text/x-python",
   "name": "python",
   "nbconvert_exporter": "python",
   "pygments_lexer": "ipython3",
   "version": "3.7.3"
  }
 },
 "nbformat": 4,
 "nbformat_minor": 2
}
